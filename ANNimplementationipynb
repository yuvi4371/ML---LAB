{
  "nbformat": 4,
  "nbformat_minor": 0,
  "metadata": {
    "colab": {
      "provenance": [],
      "authorship_tag": "ABX9TyMFbP0erEVJPsDYCy3JXlxh",
      "include_colab_link": true
    },
    "kernelspec": {
      "name": "python3",
      "display_name": "Python 3"
    },
    "language_info": {
      "name": "python"
    }
  },
  "cells": [
    {
      "cell_type": "markdown",
      "metadata": {
        "id": "view-in-github",
        "colab_type": "text"
      },
      "source": [
        "<a href=\"https://colab.research.google.com/github/yuvi4371/ML---LAB/blob/main/ANNimplementationipynb\" target=\"_parent\"><img src=\"https://colab.research.google.com/assets/colab-badge.svg\" alt=\"Open In Colab\"/></a>"
      ]
    },
    {
      "cell_type": "code",
      "execution_count": 1,
      "metadata": {
        "colab": {
          "base_uri": "https://localhost:8080/"
        },
        "id": "iQn9gcRHkA-8",
        "outputId": "da38b2ea-3f84-45e2-ce37-f12b31a9b0ab"
      },
      "outputs": [
        {
          "output_type": "stream",
          "name": "stdout",
          "text": [
            "Downloading data from https://storage.googleapis.com/tensorflow/tf-keras-datasets/mnist.npz\n",
            "11490434/11490434 [==============================] - 0s 0us/step\n"
          ]
        }
      ],
      "source": [
        "from keras.datasets import mnist\n",
        "(train_images, train_labels), (test_images, test_labels) = mnist.load_data()\n"
      ]
    },
    {
      "cell_type": "code",
      "source": [
        "train_images.shape\n",
        "len(train_labels)\n",
        "train_labels\n",
        "test_images.shape\n",
        "len(test_labels)\n",
        "test_labels\n"
      ],
      "metadata": {
        "colab": {
          "base_uri": "https://localhost:8080/"
        },
        "id": "I_bx0vTdkGVk",
        "outputId": "3873e036-334e-49e2-8dc7-b8c79c682cbd"
      },
      "execution_count": 2,
      "outputs": [
        {
          "output_type": "execute_result",
          "data": {
            "text/plain": [
              "array([7, 2, 1, ..., 4, 5, 6], dtype=uint8)"
            ]
          },
          "metadata": {},
          "execution_count": 2
        }
      ]
    },
    {
      "cell_type": "markdown",
      "source": [
        "The network architecture"
      ],
      "metadata": {
        "id": "a6vW6OUpkJFF"
      }
    },
    {
      "cell_type": "code",
      "source": [
        "from keras import models\n",
        "from keras import layers\n",
        "network = models.Sequential()\n",
        "# Dense(32) is a fully-connected layer with 32 hidden units.\n",
        "# in the first layer, you must specify the expected input data shape :\n",
        "# here, 28 X 28=784 -dimensional vectors.\n",
        "network.add(layers.Dense(32, activation='sigmoid', input_shape=(28 * 28, )))\n",
        "network.add(layers.Dense(8, activation='sigmoid'))\n",
        "network.add(layers.Dense(10, activation='softmax'))\n",
        "network.summary()\n",
        "from google.colab import drive\n",
        "drive.mount('/content/drive')"
      ],
      "metadata": {
        "colab": {
          "base_uri": "https://localhost:8080/"
        },
        "id": "pct3SbQ1kJ-8",
        "outputId": "a2c1665f-3bc2-494b-b6e0-f67ada0e0105"
      },
      "execution_count": 6,
      "outputs": [
        {
          "output_type": "stream",
          "name": "stdout",
          "text": [
            "Model: \"sequential\"\n",
            "_________________________________________________________________\n",
            " Layer (type)                Output Shape              Param #   \n",
            "=================================================================\n",
            " dense (Dense)               (None, 32)                25120     \n",
            "                                                                 \n",
            " dense_1 (Dense)             (None, 8)                 264       \n",
            "                                                                 \n",
            " dense_2 (Dense)             (None, 10)                90        \n",
            "                                                                 \n",
            "=================================================================\n",
            "Total params: 25474 (99.51 KB)\n",
            "Trainable params: 25474 (99.51 KB)\n",
            "Non-trainable params: 0 (0.00 Byte)\n",
            "_________________________________________________________________\n",
            "Mounted at /content/drive\n"
          ]
        }
      ]
    },
    {
      "cell_type": "markdown",
      "source": [
        "The compilation step"
      ],
      "metadata": {
        "id": "33WO9P7ckOio"
      }
    },
    {
      "cell_type": "code",
      "source": [
        "network.compile(optimizer='sgd',\n",
        "                loss='categorical_crossentropy',\n",
        "                metrics=['accuracy'])"
      ],
      "metadata": {
        "id": "go0n_Gq5kQ-v"
      },
      "execution_count": 7,
      "outputs": []
    },
    {
      "cell_type": "markdown",
      "source": [
        "Preparing the image data"
      ],
      "metadata": {
        "id": "MIj-oHhhkTTX"
      }
    },
    {
      "cell_type": "code",
      "source": [
        "train_images = train_images.reshape((60000, 28 * 28))\n",
        "train_images = train_images.astype('float32') / 255.\n",
        "test_images = test_images.reshape((10000, 28 * 28))\n",
        "test_images = test_images.astype('float32') / 255."
      ],
      "metadata": {
        "id": "Ntyk9CEYkVmV"
      },
      "execution_count": 8,
      "outputs": []
    },
    {
      "cell_type": "markdown",
      "source": [
        "Preparing the labels"
      ],
      "metadata": {
        "id": "M3dtN1W3kYCt"
      }
    },
    {
      "cell_type": "code",
      "source": [
        "from keras.utils import to_categorical\n",
        "train_labels = to_categorical(train_labels)\n",
        "train_labels\n",
        "test_labels = to_categorical(test_labels)\n",
        "test_labels\n"
      ],
      "metadata": {
        "colab": {
          "base_uri": "https://localhost:8080/"
        },
        "id": "jBc9gksMkaHc",
        "outputId": "e788a928-8494-49d2-bf19-dde4340fe013"
      },
      "execution_count": 9,
      "outputs": [
        {
          "output_type": "execute_result",
          "data": {
            "text/plain": [
              "array([[0., 0., 0., ..., 1., 0., 0.],\n",
              "       [0., 0., 1., ..., 0., 0., 0.],\n",
              "       [0., 1., 0., ..., 0., 0., 0.],\n",
              "       ...,\n",
              "       [0., 0., 0., ..., 0., 0., 0.],\n",
              "       [0., 0., 0., ..., 0., 0., 0.],\n",
              "       [0., 0., 0., ..., 0., 0., 0.]], dtype=float32)"
            ]
          },
          "metadata": {},
          "execution_count": 9
        }
      ]
    },
    {
      "cell_type": "markdown",
      "source": [
        "Training and Testing"
      ],
      "metadata": {
        "id": "nbZtUhkokdBf"
      }
    },
    {
      "cell_type": "code",
      "source": [
        "network.fit(train_images, train_labels, epochs=160, batch_size=512)"
      ],
      "metadata": {
        "colab": {
          "base_uri": "https://localhost:8080/"
        },
        "id": "FEFBSYW-kd_0",
        "outputId": "d97a3cf1-a9ed-4be6-b07f-cdc839a7a598"
      },
      "execution_count": 10,
      "outputs": [
        {
          "output_type": "stream",
          "name": "stdout",
          "text": [
            "Epoch 1/160\n",
            "118/118 [==============================] - 1s 5ms/step - loss: 2.3646 - accuracy: 0.0974\n",
            "Epoch 2/160\n",
            "118/118 [==============================] - 1s 5ms/step - loss: 2.3207 - accuracy: 0.0974\n",
            "Epoch 3/160\n",
            "118/118 [==============================] - 1s 8ms/step - loss: 2.3029 - accuracy: 0.0972\n",
            "Epoch 4/160\n",
            "118/118 [==============================] - 1s 8ms/step - loss: 2.2931 - accuracy: 0.0787\n",
            "Epoch 5/160\n",
            "118/118 [==============================] - 1s 8ms/step - loss: 2.2862 - accuracy: 0.0716\n",
            "Epoch 6/160\n",
            "118/118 [==============================] - 1s 9ms/step - loss: 2.2807 - accuracy: 0.1205\n",
            "Epoch 7/160\n",
            "118/118 [==============================] - 1s 7ms/step - loss: 2.2756 - accuracy: 0.1242\n",
            "Epoch 8/160\n",
            "118/118 [==============================] - 1s 6ms/step - loss: 2.2708 - accuracy: 0.1342\n",
            "Epoch 9/160\n",
            "118/118 [==============================] - 1s 5ms/step - loss: 2.2658 - accuracy: 0.1493\n",
            "Epoch 10/160\n",
            "118/118 [==============================] - 1s 5ms/step - loss: 2.2608 - accuracy: 0.1642\n",
            "Epoch 11/160\n",
            "118/118 [==============================] - 1s 5ms/step - loss: 2.2555 - accuracy: 0.1820\n",
            "Epoch 12/160\n",
            "118/118 [==============================] - 1s 5ms/step - loss: 2.2500 - accuracy: 0.1987\n",
            "Epoch 13/160\n",
            "118/118 [==============================] - 1s 5ms/step - loss: 2.2442 - accuracy: 0.2184\n",
            "Epoch 14/160\n",
            "118/118 [==============================] - 1s 5ms/step - loss: 2.2380 - accuracy: 0.2447\n",
            "Epoch 15/160\n",
            "118/118 [==============================] - 1s 5ms/step - loss: 2.2315 - accuracy: 0.2668\n",
            "Epoch 16/160\n",
            "118/118 [==============================] - 1s 5ms/step - loss: 2.2245 - accuracy: 0.2819\n",
            "Epoch 17/160\n",
            "118/118 [==============================] - 1s 5ms/step - loss: 2.2171 - accuracy: 0.3099\n",
            "Epoch 18/160\n",
            "118/118 [==============================] - 1s 5ms/step - loss: 2.2092 - accuracy: 0.3269\n",
            "Epoch 19/160\n",
            "118/118 [==============================] - 1s 5ms/step - loss: 2.2008 - accuracy: 0.3448\n",
            "Epoch 20/160\n",
            "118/118 [==============================] - 1s 5ms/step - loss: 2.1919 - accuracy: 0.3629\n",
            "Epoch 21/160\n",
            "118/118 [==============================] - 1s 5ms/step - loss: 2.1823 - accuracy: 0.3804\n",
            "Epoch 22/160\n",
            "118/118 [==============================] - 1s 5ms/step - loss: 2.1722 - accuracy: 0.4040\n",
            "Epoch 23/160\n",
            "118/118 [==============================] - 1s 6ms/step - loss: 2.1614 - accuracy: 0.4193\n",
            "Epoch 24/160\n",
            "118/118 [==============================] - 1s 8ms/step - loss: 2.1500 - accuracy: 0.4401\n",
            "Epoch 25/160\n",
            "118/118 [==============================] - 1s 8ms/step - loss: 2.1380 - accuracy: 0.4582\n",
            "Epoch 26/160\n",
            "118/118 [==============================] - 1s 8ms/step - loss: 2.1252 - accuracy: 0.4762\n",
            "Epoch 27/160\n",
            "118/118 [==============================] - 1s 8ms/step - loss: 2.1118 - accuracy: 0.4847\n",
            "Epoch 28/160\n",
            "118/118 [==============================] - 1s 7ms/step - loss: 2.0977 - accuracy: 0.4980\n",
            "Epoch 29/160\n",
            "118/118 [==============================] - 1s 5ms/step - loss: 2.0830 - accuracy: 0.5061\n",
            "Epoch 30/160\n",
            "118/118 [==============================] - 1s 5ms/step - loss: 2.0675 - accuracy: 0.5139\n",
            "Epoch 31/160\n",
            "118/118 [==============================] - 1s 5ms/step - loss: 2.0515 - accuracy: 0.5215\n",
            "Epoch 32/160\n",
            "118/118 [==============================] - 1s 5ms/step - loss: 2.0349 - accuracy: 0.5276\n",
            "Epoch 33/160\n",
            "118/118 [==============================] - 1s 5ms/step - loss: 2.0177 - accuracy: 0.5294\n",
            "Epoch 34/160\n",
            "118/118 [==============================] - 1s 5ms/step - loss: 1.9999 - accuracy: 0.5343\n",
            "Epoch 35/160\n",
            "118/118 [==============================] - 1s 5ms/step - loss: 1.9817 - accuracy: 0.5390\n",
            "Epoch 36/160\n",
            "118/118 [==============================] - 1s 5ms/step - loss: 1.9630 - accuracy: 0.5450\n",
            "Epoch 37/160\n",
            "118/118 [==============================] - 1s 5ms/step - loss: 1.9439 - accuracy: 0.5476\n",
            "Epoch 38/160\n",
            "118/118 [==============================] - 1s 5ms/step - loss: 1.9245 - accuracy: 0.5517\n",
            "Epoch 39/160\n",
            "118/118 [==============================] - 1s 5ms/step - loss: 1.9047 - accuracy: 0.5541\n",
            "Epoch 40/160\n",
            "118/118 [==============================] - 1s 5ms/step - loss: 1.8847 - accuracy: 0.5584\n",
            "Epoch 41/160\n",
            "118/118 [==============================] - 1s 5ms/step - loss: 1.8645 - accuracy: 0.5622\n",
            "Epoch 42/160\n",
            "118/118 [==============================] - 1s 5ms/step - loss: 1.8441 - accuracy: 0.5666\n",
            "Epoch 43/160\n",
            "118/118 [==============================] - 1s 5ms/step - loss: 1.8235 - accuracy: 0.5691\n",
            "Epoch 44/160\n",
            "118/118 [==============================] - 1s 5ms/step - loss: 1.8029 - accuracy: 0.5762\n",
            "Epoch 45/160\n",
            "118/118 [==============================] - 1s 8ms/step - loss: 1.7823 - accuracy: 0.5796\n",
            "Epoch 46/160\n",
            "118/118 [==============================] - 1s 8ms/step - loss: 1.7616 - accuracy: 0.5839\n",
            "Epoch 47/160\n",
            "118/118 [==============================] - 1s 7ms/step - loss: 1.7410 - accuracy: 0.5903\n",
            "Epoch 48/160\n",
            "118/118 [==============================] - 1s 8ms/step - loss: 1.7204 - accuracy: 0.5955\n",
            "Epoch 49/160\n",
            "118/118 [==============================] - 1s 8ms/step - loss: 1.6999 - accuracy: 0.6002\n",
            "Epoch 50/160\n",
            "118/118 [==============================] - 1s 5ms/step - loss: 1.6794 - accuracy: 0.6063\n",
            "Epoch 51/160\n",
            "118/118 [==============================] - 1s 5ms/step - loss: 1.6591 - accuracy: 0.6117\n",
            "Epoch 52/160\n",
            "118/118 [==============================] - 1s 5ms/step - loss: 1.6390 - accuracy: 0.6151\n",
            "Epoch 53/160\n",
            "118/118 [==============================] - 1s 5ms/step - loss: 1.6189 - accuracy: 0.6209\n",
            "Epoch 54/160\n",
            "118/118 [==============================] - 1s 5ms/step - loss: 1.5991 - accuracy: 0.6270\n",
            "Epoch 55/160\n",
            "118/118 [==============================] - 1s 6ms/step - loss: 1.5794 - accuracy: 0.6321\n",
            "Epoch 56/160\n",
            "118/118 [==============================] - 1s 9ms/step - loss: 1.5599 - accuracy: 0.6367\n",
            "Epoch 57/160\n",
            "118/118 [==============================] - 1s 10ms/step - loss: 1.5405 - accuracy: 0.6420\n",
            "Epoch 58/160\n",
            "118/118 [==============================] - 1s 5ms/step - loss: 1.5214 - accuracy: 0.6474\n",
            "Epoch 59/160\n",
            "118/118 [==============================] - 1s 5ms/step - loss: 1.5024 - accuracy: 0.6528\n",
            "Epoch 60/160\n",
            "118/118 [==============================] - 1s 6ms/step - loss: 1.4837 - accuracy: 0.6560\n",
            "Epoch 61/160\n",
            "118/118 [==============================] - 1s 6ms/step - loss: 1.4652 - accuracy: 0.6614\n",
            "Epoch 62/160\n",
            "118/118 [==============================] - 1s 5ms/step - loss: 1.4469 - accuracy: 0.6666\n",
            "Epoch 63/160\n",
            "118/118 [==============================] - 1s 5ms/step - loss: 1.4288 - accuracy: 0.6698\n",
            "Epoch 64/160\n",
            "118/118 [==============================] - 1s 6ms/step - loss: 1.4109 - accuracy: 0.6754\n",
            "Epoch 65/160\n",
            "118/118 [==============================] - 1s 8ms/step - loss: 1.3933 - accuracy: 0.6784\n",
            "Epoch 66/160\n",
            "118/118 [==============================] - 1s 8ms/step - loss: 1.3759 - accuracy: 0.6826\n",
            "Epoch 67/160\n",
            "118/118 [==============================] - 1s 8ms/step - loss: 1.3587 - accuracy: 0.6863\n",
            "Epoch 68/160\n",
            "118/118 [==============================] - 1s 8ms/step - loss: 1.3418 - accuracy: 0.6905\n",
            "Epoch 69/160\n",
            "118/118 [==============================] - 1s 10ms/step - loss: 1.3252 - accuracy: 0.6941\n",
            "Epoch 70/160\n",
            "118/118 [==============================] - 1s 5ms/step - loss: 1.3088 - accuracy: 0.6968\n",
            "Epoch 71/160\n",
            "118/118 [==============================] - 1s 5ms/step - loss: 1.2926 - accuracy: 0.7001\n",
            "Epoch 72/160\n",
            "118/118 [==============================] - 1s 5ms/step - loss: 1.2766 - accuracy: 0.7039\n",
            "Epoch 73/160\n",
            "118/118 [==============================] - 1s 5ms/step - loss: 1.2610 - accuracy: 0.7070\n",
            "Epoch 74/160\n",
            "118/118 [==============================] - 1s 7ms/step - loss: 1.2456 - accuracy: 0.7100\n",
            "Epoch 75/160\n",
            "118/118 [==============================] - 1s 8ms/step - loss: 1.2305 - accuracy: 0.7131\n",
            "Epoch 76/160\n",
            "118/118 [==============================] - 1s 10ms/step - loss: 1.2156 - accuracy: 0.7147\n",
            "Epoch 77/160\n",
            "118/118 [==============================] - 1s 6ms/step - loss: 1.2010 - accuracy: 0.7176\n",
            "Epoch 78/160\n",
            "118/118 [==============================] - 1s 8ms/step - loss: 1.1867 - accuracy: 0.7206\n",
            "Epoch 79/160\n",
            "118/118 [==============================] - 1s 5ms/step - loss: 1.1727 - accuracy: 0.7233\n",
            "Epoch 80/160\n",
            "118/118 [==============================] - 1s 5ms/step - loss: 1.1589 - accuracy: 0.7258\n",
            "Epoch 81/160\n",
            "118/118 [==============================] - 1s 5ms/step - loss: 1.1454 - accuracy: 0.7289\n",
            "Epoch 82/160\n",
            "118/118 [==============================] - 1s 6ms/step - loss: 1.1322 - accuracy: 0.7312\n",
            "Epoch 83/160\n",
            "118/118 [==============================] - 1s 7ms/step - loss: 1.1193 - accuracy: 0.7336\n",
            "Epoch 84/160\n",
            "118/118 [==============================] - 1s 7ms/step - loss: 1.1066 - accuracy: 0.7359\n",
            "Epoch 85/160\n",
            "118/118 [==============================] - 1s 7ms/step - loss: 1.0943 - accuracy: 0.7380\n",
            "Epoch 86/160\n",
            "118/118 [==============================] - 1s 8ms/step - loss: 1.0822 - accuracy: 0.7406\n",
            "Epoch 87/160\n",
            "118/118 [==============================] - 1s 7ms/step - loss: 1.0704 - accuracy: 0.7420\n",
            "Epoch 88/160\n",
            "118/118 [==============================] - 1s 5ms/step - loss: 1.0588 - accuracy: 0.7444\n",
            "Epoch 89/160\n",
            "118/118 [==============================] - 1s 5ms/step - loss: 1.0476 - accuracy: 0.7465\n",
            "Epoch 90/160\n",
            "118/118 [==============================] - 1s 5ms/step - loss: 1.0366 - accuracy: 0.7483\n",
            "Epoch 91/160\n",
            "118/118 [==============================] - 1s 5ms/step - loss: 1.0258 - accuracy: 0.7508\n",
            "Epoch 92/160\n",
            "118/118 [==============================] - 1s 5ms/step - loss: 1.0153 - accuracy: 0.7524\n",
            "Epoch 93/160\n",
            "118/118 [==============================] - 1s 5ms/step - loss: 1.0051 - accuracy: 0.7549\n",
            "Epoch 94/160\n",
            "118/118 [==============================] - 1s 5ms/step - loss: 0.9951 - accuracy: 0.7566\n",
            "Epoch 95/160\n",
            "118/118 [==============================] - 1s 5ms/step - loss: 0.9853 - accuracy: 0.7591\n",
            "Epoch 96/160\n",
            "118/118 [==============================] - 1s 5ms/step - loss: 0.9758 - accuracy: 0.7609\n",
            "Epoch 97/160\n",
            "118/118 [==============================] - 1s 5ms/step - loss: 0.9664 - accuracy: 0.7628\n",
            "Epoch 98/160\n",
            "118/118 [==============================] - 1s 5ms/step - loss: 0.9573 - accuracy: 0.7646\n",
            "Epoch 99/160\n",
            "118/118 [==============================] - 1s 5ms/step - loss: 0.9484 - accuracy: 0.7659\n",
            "Epoch 100/160\n",
            "118/118 [==============================] - 1s 5ms/step - loss: 0.9397 - accuracy: 0.7679\n",
            "Epoch 101/160\n",
            "118/118 [==============================] - 1s 6ms/step - loss: 0.9312 - accuracy: 0.7694\n",
            "Epoch 102/160\n",
            "118/118 [==============================] - 1s 6ms/step - loss: 0.9229 - accuracy: 0.7711\n",
            "Epoch 103/160\n",
            "118/118 [==============================] - 1s 6ms/step - loss: 0.9148 - accuracy: 0.7725\n",
            "Epoch 104/160\n",
            "118/118 [==============================] - 1s 8ms/step - loss: 0.9068 - accuracy: 0.7748\n",
            "Epoch 105/160\n",
            "118/118 [==============================] - 1s 8ms/step - loss: 0.8990 - accuracy: 0.7764\n",
            "Epoch 106/160\n",
            "118/118 [==============================] - 1s 8ms/step - loss: 0.8914 - accuracy: 0.7781\n",
            "Epoch 107/160\n",
            "118/118 [==============================] - 1s 9ms/step - loss: 0.8840 - accuracy: 0.7800\n",
            "Epoch 108/160\n",
            "118/118 [==============================] - 1s 7ms/step - loss: 0.8767 - accuracy: 0.7812\n",
            "Epoch 109/160\n",
            "118/118 [==============================] - 1s 5ms/step - loss: 0.8695 - accuracy: 0.7829\n",
            "Epoch 110/160\n",
            "118/118 [==============================] - 1s 5ms/step - loss: 0.8625 - accuracy: 0.7848\n",
            "Epoch 111/160\n",
            "118/118 [==============================] - 1s 5ms/step - loss: 0.8556 - accuracy: 0.7862\n",
            "Epoch 112/160\n",
            "118/118 [==============================] - 1s 5ms/step - loss: 0.8489 - accuracy: 0.7877\n",
            "Epoch 113/160\n",
            "118/118 [==============================] - 1s 5ms/step - loss: 0.8423 - accuracy: 0.7894\n",
            "Epoch 114/160\n",
            "118/118 [==============================] - 1s 5ms/step - loss: 0.8359 - accuracy: 0.7906\n",
            "Epoch 115/160\n",
            "118/118 [==============================] - 1s 5ms/step - loss: 0.8296 - accuracy: 0.7922\n",
            "Epoch 116/160\n",
            "118/118 [==============================] - 1s 5ms/step - loss: 0.8234 - accuracy: 0.7935\n",
            "Epoch 117/160\n",
            "118/118 [==============================] - 1s 5ms/step - loss: 0.8173 - accuracy: 0.7944\n",
            "Epoch 118/160\n",
            "118/118 [==============================] - 1s 5ms/step - loss: 0.8113 - accuracy: 0.7959\n",
            "Epoch 119/160\n",
            "118/118 [==============================] - 1s 5ms/step - loss: 0.8054 - accuracy: 0.7972\n",
            "Epoch 120/160\n",
            "118/118 [==============================] - 1s 5ms/step - loss: 0.7997 - accuracy: 0.7982\n",
            "Epoch 121/160\n",
            "118/118 [==============================] - 1s 5ms/step - loss: 0.7940 - accuracy: 0.7997\n",
            "Epoch 122/160\n",
            "118/118 [==============================] - 1s 5ms/step - loss: 0.7884 - accuracy: 0.8012\n",
            "Epoch 123/160\n",
            "118/118 [==============================] - 1s 5ms/step - loss: 0.7830 - accuracy: 0.8023\n",
            "Epoch 124/160\n",
            "118/118 [==============================] - 1s 6ms/step - loss: 0.7776 - accuracy: 0.8032\n",
            "Epoch 125/160\n",
            "118/118 [==============================] - 1s 8ms/step - loss: 0.7724 - accuracy: 0.8045\n",
            "Epoch 126/160\n",
            "118/118 [==============================] - 1s 8ms/step - loss: 0.7672 - accuracy: 0.8055\n",
            "Epoch 127/160\n",
            "118/118 [==============================] - 1s 8ms/step - loss: 0.7621 - accuracy: 0.8067\n",
            "Epoch 128/160\n",
            "118/118 [==============================] - 1s 8ms/step - loss: 0.7571 - accuracy: 0.8078\n",
            "Epoch 129/160\n",
            "118/118 [==============================] - 1s 7ms/step - loss: 0.7522 - accuracy: 0.8091\n",
            "Epoch 130/160\n",
            "118/118 [==============================] - 1s 7ms/step - loss: 0.7474 - accuracy: 0.8104\n",
            "Epoch 131/160\n",
            "118/118 [==============================] - 1s 8ms/step - loss: 0.7426 - accuracy: 0.8116\n",
            "Epoch 132/160\n",
            "118/118 [==============================] - 1s 8ms/step - loss: 0.7380 - accuracy: 0.8129\n",
            "Epoch 133/160\n",
            "118/118 [==============================] - 1s 8ms/step - loss: 0.7334 - accuracy: 0.8141\n",
            "Epoch 134/160\n",
            "118/118 [==============================] - 1s 8ms/step - loss: 0.7289 - accuracy: 0.8153\n",
            "Epoch 135/160\n",
            "118/118 [==============================] - 1s 5ms/step - loss: 0.7244 - accuracy: 0.8162\n",
            "Epoch 136/160\n",
            "118/118 [==============================] - 1s 5ms/step - loss: 0.7201 - accuracy: 0.8176\n",
            "Epoch 137/160\n",
            "118/118 [==============================] - 1s 5ms/step - loss: 0.7158 - accuracy: 0.8181\n",
            "Epoch 138/160\n",
            "118/118 [==============================] - 1s 5ms/step - loss: 0.7115 - accuracy: 0.8194\n",
            "Epoch 139/160\n",
            "118/118 [==============================] - 1s 5ms/step - loss: 0.7074 - accuracy: 0.8207\n",
            "Epoch 140/160\n",
            "118/118 [==============================] - 1s 5ms/step - loss: 0.7033 - accuracy: 0.8216\n",
            "Epoch 141/160\n",
            "118/118 [==============================] - 1s 5ms/step - loss: 0.6993 - accuracy: 0.8220\n",
            "Epoch 142/160\n",
            "118/118 [==============================] - 1s 5ms/step - loss: 0.6953 - accuracy: 0.8236\n",
            "Epoch 143/160\n",
            "118/118 [==============================] - 1s 7ms/step - loss: 0.6914 - accuracy: 0.8242\n",
            "Epoch 144/160\n",
            "118/118 [==============================] - 1s 8ms/step - loss: 0.6875 - accuracy: 0.8250\n",
            "Epoch 145/160\n",
            "118/118 [==============================] - 1s 8ms/step - loss: 0.6837 - accuracy: 0.8263\n",
            "Epoch 146/160\n",
            "118/118 [==============================] - 1s 8ms/step - loss: 0.6800 - accuracy: 0.8274\n",
            "Epoch 147/160\n",
            "118/118 [==============================] - 1s 9ms/step - loss: 0.6763 - accuracy: 0.8284\n",
            "Epoch 148/160\n",
            "118/118 [==============================] - 1s 5ms/step - loss: 0.6727 - accuracy: 0.8293\n",
            "Epoch 149/160\n",
            "118/118 [==============================] - 1s 6ms/step - loss: 0.6692 - accuracy: 0.8302\n",
            "Epoch 150/160\n",
            "118/118 [==============================] - 1s 5ms/step - loss: 0.6656 - accuracy: 0.8311\n",
            "Epoch 151/160\n",
            "118/118 [==============================] - 1s 5ms/step - loss: 0.6622 - accuracy: 0.8324\n",
            "Epoch 152/160\n",
            "118/118 [==============================] - 1s 6ms/step - loss: 0.6587 - accuracy: 0.8333\n",
            "Epoch 153/160\n",
            "118/118 [==============================] - 1s 5ms/step - loss: 0.6554 - accuracy: 0.8342\n",
            "Epoch 154/160\n",
            "118/118 [==============================] - 1s 5ms/step - loss: 0.6521 - accuracy: 0.8352\n",
            "Epoch 155/160\n",
            "118/118 [==============================] - 1s 5ms/step - loss: 0.6488 - accuracy: 0.8359\n",
            "Epoch 156/160\n",
            "118/118 [==============================] - 1s 5ms/step - loss: 0.6456 - accuracy: 0.8376\n",
            "Epoch 157/160\n",
            "118/118 [==============================] - 1s 5ms/step - loss: 0.6424 - accuracy: 0.8382\n",
            "Epoch 158/160\n",
            "118/118 [==============================] - 1s 5ms/step - loss: 0.6392 - accuracy: 0.8388\n",
            "Epoch 159/160\n",
            "118/118 [==============================] - 1s 5ms/step - loss: 0.6362 - accuracy: 0.8395\n",
            "Epoch 160/160\n",
            "118/118 [==============================] - 1s 6ms/step - loss: 0.6331 - accuracy: 0.8402\n"
          ]
        },
        {
          "output_type": "execute_result",
          "data": {
            "text/plain": [
              "<keras.src.callbacks.History at 0x7f7f517db430>"
            ]
          },
          "metadata": {},
          "execution_count": 10
        }
      ]
    },
    {
      "cell_type": "code",
      "source": [
        "test_loss, test_acc = network.evaluate(test_images, test_labels)\n",
        "print('Test Accuracy: {:.5f} '.format(test_acc))\n",
        "test_acc"
      ],
      "metadata": {
        "colab": {
          "base_uri": "https://localhost:8080/"
        },
        "id": "9jAbXJvKkiyb",
        "outputId": "79872e74-e559-4c9d-c3a3-11fc79e3ebfa"
      },
      "execution_count": 11,
      "outputs": [
        {
          "output_type": "stream",
          "name": "stdout",
          "text": [
            "313/313 [==============================] - 1s 2ms/step - loss: 0.6221 - accuracy: 0.8452\n",
            "Test Accuracy: 0.84520 \n"
          ]
        },
        {
          "output_type": "execute_result",
          "data": {
            "text/plain": [
              "0.8452000021934509"
            ]
          },
          "metadata": {},
          "execution_count": 11
        }
      ]
    },
    {
      "cell_type": "code",
      "source": [
        "from keras.utils import plot_model\n",
        "plot_model(network, to_file='model.png')\n",
        "import matplotlib.pyplot as plt\n",
        "history =network.fit(train_images, train_labels, validation_split=0.33,epochs=5, batch_size=512)\n",
        "history_dict = history.history\n",
        "print(history_dict.keys())\n",
        "plt.plot(history.history['accuracy'])\n",
        "plt.plot(history.history['val_accuracy'])\n",
        "plt.title('Model accuracy')\n",
        "plt.ylabel('Accuracy')\n",
        "plt.xlabel('Epoch')\n",
        "plt.legend(['Train', 'Test'], loc='upper left')\n",
        "plt.show()\n",
        "\n",
        "\n",
        "# Plot training & validation loss values\n",
        "plt.plot(history.history['loss'])\n",
        "plt.plot(history.history['val_loss'])\n",
        "plt.title('Model loss')\n",
        "plt.ylabel('Loss')\n",
        "plt.xlabel('Epoch')\n",
        "plt.legend(['Train', 'Test'], loc='upper left')\n",
        "plt.show()\n"
      ],
      "metadata": {
        "colab": {
          "base_uri": "https://localhost:8080/",
          "height": 1000
        },
        "id": "qBUn2jjjklaR",
        "outputId": "5e46476a-8399-4d54-b24a-0a53f844b7b0"
      },
      "execution_count": 12,
      "outputs": [
        {
          "output_type": "stream",
          "name": "stdout",
          "text": [
            "Epoch 1/5\n",
            "79/79 [==============================] - 1s 15ms/step - loss: 0.6344 - accuracy: 0.8402 - val_loss: 0.6217 - val_accuracy: 0.8430\n",
            "Epoch 2/5\n",
            "79/79 [==============================] - 1s 12ms/step - loss: 0.6324 - accuracy: 0.8410 - val_loss: 0.6198 - val_accuracy: 0.8432\n",
            "Epoch 3/5\n",
            "79/79 [==============================] - 0s 6ms/step - loss: 0.6304 - accuracy: 0.8417 - val_loss: 0.6179 - val_accuracy: 0.8441\n",
            "Epoch 4/5\n",
            "79/79 [==============================] - 1s 6ms/step - loss: 0.6284 - accuracy: 0.8424 - val_loss: 0.6161 - val_accuracy: 0.8447\n",
            "Epoch 5/5\n",
            "79/79 [==============================] - 0s 6ms/step - loss: 0.6265 - accuracy: 0.8428 - val_loss: 0.6142 - val_accuracy: 0.8457\n",
            "dict_keys(['loss', 'accuracy', 'val_loss', 'val_accuracy'])\n"
          ]
        },
        {
          "output_type": "display_data",
          "data": {
            "text/plain": [
              "<Figure size 640x480 with 1 Axes>"
            ],
            "image/png": "[encoded data removed]"
          },
          "metadata": {}
        },
        {
          "output_type": "display_data",
          "data": {
            "text/plain": [
              "<Figure size 640x480 with 1 Axes>"
            ],
            "image/png": "[encoded data removed]"
          },
          "metadata": {}
        }
      ]
    }
  ]
}